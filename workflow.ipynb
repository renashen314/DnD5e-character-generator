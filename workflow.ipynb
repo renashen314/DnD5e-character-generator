{
 "cells": [
  {
   "cell_type": "markdown",
   "metadata": {},
   "source": [
    "## Load and split document"
   ]
  },
  {
   "cell_type": "code",
   "execution_count": null,
   "metadata": {},
   "outputs": [
    {
     "name": "stdout",
     "output_type": "stream",
     "text": [
      "[Document(metadata={'source': 'data/DnD_5e_Players_Handbook.pdf', 'page': 1}, page_content='C o n t e n t s\\nP r e f a c e  4\\nI n t r o d u c t i o n  5\\nWorlds of Adventure ...................................................................5\\nUsing This Book.........................................................................6\\nHow to Play...................................................................................6\\nAdventures....................................................................................7\\nP a r t  1 9\\nChapter  1: S tep -by -S tep  C haracters .....11\\nBeyond 1st Level ...............................................................15\\nCh apter  2: R aces ........................................................17\\nChoosing a Race................................................................17\\nDwarf....................................................................................18\\nElf...........................................................................................21\\nHalfling.................................................................................26\\nHuman..................................................................................29\\nDragonborn........................................................................32\\nGnome..................................................................................35\\nHalf-Elf.................................................................................38\\nHalf-Orc..............................................................................40\\nTiefling.................................................................................42\\nCh apter  3: C lasses ..................................................45\\nBarbarian............................................................................46\\nBard......................................................................................51\\nCleric.....................................................................................56\\nDruid.....................................................................................64\\nFighter..................................................................................70\\nMonk.....................................................................................76\\nPaladin.................................................................................82\\nRanger..................................................................................89\\nRogue....................................................................................94\\nSorcerer..............................................................................99\\nWarlock..............................................................................105\\nWizard................................................................................112\\nChapter  4: P ersonality  and\\nBackground ..................................................................121\\nCharacter Details............................................................121\\nInspiration........................................................................125\\nBackgrounds....................................................................125\\nChapter  5: E qu ipm en t.........................................143\\nStarting Equipment.......................................................143\\nWealth................................................................................143\\nArmor and Shields.........................................................144\\nWeapons............................................................................146\\nAdventuring Gear...........................................................148\\nTools....................................................................................154\\nMounts and Vehicles.....................................................155\\nTrade Goods.....................................................................157\\nExpenses...........................................................................157\\nTrinkets.............................................................................159'), Document(metadata={'source': 'data/DnD_5e_Players_Handbook.pdf', 'page': 1}, page_content='Expenses...........................................................................157\\nTrinkets.............................................................................159\\nChapter  6: C u stom ization  O ptio n s\\n....163\\nMulticlassing....................................................................163\\nFeats...................................................................................165\\nPa r t 2  171\\nChapter  7: U sing  A bility  Sc o r e s...........173\\nAbility Scores and Modifiers........................................173\\nAdvantage and Disadvantage ......................................173\\nProficiency Bonus............................................................173\\nAbility Checks...................................................................174\\nUsing Each Ability...........................................................175\\nSaving Throws ................................................................179\\nChapter  8: A dventuring ......................181\\nTime........................................................ ...................181\\nMovement ..........................................................................181\\nThe Environment ...................................................183\\nSocial Interaction ...........................................................185\\nResting...............................................................................186\\nBetween Adventures......................................................186\\nChapter  9: C o m bat................................................189\\nThe Order of Combat.....................................................189\\nMovement and Position.................................................190\\nActions in Combat..........................................................192\\nMaking an Attack............................................................193\\nCover...................................................................................196\\nDamage and Healing.....................................................196\\nMounted Combat.............................................................198\\nUnderwater Combat.......................................................198\\nP a r t  3 199\\nC h apter 10 : S p ellca stin g .................................201\\nWhat Is a Spell?...............................................................201\\nCasting a Spell................................................................202\\nC h apter 11: Spells .....................................................207\\nSpell Lists..........................................................................207\\nSpell Descriptions...........................................................211\\nA ppen d ix  A: C o n d itio n s 290\\nA p p en d ix B:\\nG ods  of  th e  M u ltiver se  293\\nA ppen d ix  C:\\nT h e P la n es  of  E x isten ce  300\\nThe Material Plane... ....................................................300\\nBeyond the Material ..................................301\\nA p p en d ix D:\\nC r e a tu r e S t a tistic s  304\\nA ppen d ix  E:\\nIn sp ir a t io n a l R e a d in g 312\\nIn d ex 313\\nC h a r a c t e r S h ee t 317'), Document(metadata={'source': 'data/DnD_5e_Players_Handbook.pdf', 'page': 2}, page_content='Pr e fa c e\\nO NCE UPON A TIME, LONG, LONG AGO, IN A\\nrealm called the Midwestern United \\nStates—specifically the states of Minne\\xad\\nsota and Wisconsin—a group of friends \\ngathered together to forever alter the \\nhistory of gaming.\\nIt wasn’t their intent to do so. They were \\ntired of merely reading tales about worlds of magic, \\nmonsters, and adventure. They wanted to play in those \\nworlds, rather than observe them. That they went on \\nto invent Dungeons  & D ragons , and thereby ignite a \\nrevolution in gaming that continues to this day, speaks \\nto two things.\\nFirst, it speaks to their ingenuity and genius in fig\\xad\\nuring out that games were the perfect way to explore \\nworlds that could not otherwise exist. Almost every \\nmodern game, whether played on a digital device or \\na tabletop, owes some debt to D&D.\\nSecond, it is a testament to the inherent appeal of the \\ngame they created. Dungeons  & D ragons  sparked a \\nthriving global phenomenon. It is the first roleplaying \\ngame, and it remains one of the best of its breed.\\nTo play D&D, and to play it well, you don’t need to \\nread all the rules, memorize every detail of the game, \\nor master the fine art of rolling funny looking dice.\\nNone of those things have any bearing on what’s best \\nabout the game.\\nWhat you need are two things, the first being friends \\nwith whom you can share the game. Playing games with \\nyour friends is a lot of fun, but D&D does something \\nmore than entertain.\\nPlaying D&D is an exercise in collaborative creation. \\nYou and your friends create epic stories filled with ten\\xad\\nsion and memorable drama. You create silly in-jokes \\nthat make you laugh years later. The dice will be cruel \\nto you, but you will soldier on. Your collective creativ\\xad\\nity will build stories that you will tell again and again, \\nranging from the utterly absurd to the stuff of legend.\\nIf you don’t have friends interested in playing, don’t \\nworry. There’s a special alchemy that takes place \\naround a D&D table that nothing else can match. Play \\nthe game with someone enough, and the two of you\\nare likely to end up friends. It’s a cool side effect of the \\ngame. Your next gaming group is as close as the nearest \\ngame store, online forum, or gaming convention.\\nThe second thing you need is a lively imagination \\nor, more importantly, the willingness to use whatever \\nimagination you have. You don’t need to be a master \\nstoryteller or a brilliant artist. You just need to aspire to \\ncreate, to have the courage of someone who is willing to \\nbuild something and share it with others.\\nLuckily, just as D&D can strengthen your friendships, \\nit can help build in you the confidence to create and \\nshare. D&D is a game that teaches you to look for the \\nclever solution, share the sudden idea that can overcome \\na problem, and push yourself to imagine what could be, \\nrather than simply accept what is.\\nThe first characters and adventures you create will \\nprobably be a collection of cliches. That’s true of every\\xad\\none, from the greatest Dungeon Masters in history on \\ndown. Accept this reality and move on to create the \\nsecond character or adventure, which will be better, \\nand then the third, which will be better still. Repeat that \\nover the course of time, and soon you’ll be able to create \\nanything, from a character’s background story to an epic \\nworld of fantasy adventure.\\nOnce you have that skill, it’s yours forever. Countless \\nwriters, artists, and other creators can trace their begin\\xad\\nnings to a few pages of D&D notes, a handful of dice, \\nand a kitchen table.\\nAbove all else, D&D is yours. The friendships you \\nmake around the table will be unique to you. The adven\\xad\\ntures you embark on, the characters you create, the \\nmemories you make—these will be yours. D&D is your \\npersonal corner of the universe, a place where you have \\nfree reign to do as you wish.\\nGo forth now. Read the rules of the game and the \\nstory of its worlds, but always remember that you are \\nthe one who brings them to life. They are nothing'), Document(metadata={'source': 'data/DnD_5e_Players_Handbook.pdf', 'page': 2}, page_content='free reign to do as you wish.\\nGo forth now. Read the rules of the game and the \\nstory of its worlds, but always remember that you are \\nthe one who brings them to life. They are nothing \\nwithout the spark of life that you give them.\\nMike Mearls \\nMay 2014'), Document(metadata={'source': 'data/DnD_5e_Players_Handbook.pdf', 'page': 3}, page_content='In t r o d u c t io n\\nTh e D ungeons  & D ragons  roleplaying  \\ngame is about storytelling in worlds of \\nswords and sorcery. It shares elements \\nwith childhood games of make-believe. Like \\nthose games, D&D is driven by imagina\\xad\\ntion. It’s about picturing the towering castle \\nbeneath the stormy night sky and imagining \\nhow a fantasy adventurer might react to the challenges \\nthat scene presents.\\nDungeon Master (DM): After passing through the \\ncraggy peaks, the road takes a sudden turn to the east \\nand Castle Ravenloft towers before you. Crumbling \\ntowers of stone keep a silent watch over the approach. \\nThey look like abandoned guardhouses. Beyond these, \\na wide chasm gapes, disappearing into the deep \\nfog below. A lowered drawbridge spans the chasm, \\nleading to an arched entrance to the castle courtyard.\\nThe chains of the drawbridge creak in the wind, their \\nrust-eaten iron straining with the weight. From atop \\nthe high strong walls, stone gargoyles stare at you \\nfrom hollow sockets and grin hideously. A rotting \\nwooden portcullis, green with growth, hangs in the \\nentry tunnel. Beyond this, the main doors of Castle \\nRavenloft stand open, a rich warm light spilling into \\nthe courtyard.\\nPhillip (playing Gareth): I want to look at the \\ngargoyles. I have a feeling they’re not just statues.\\nAmy (playing Riva): The drawbridge looks precarious?\\nI want to see how sturdy it is. Do I think we can cross \\nit, or is it going to collapse under our weight?\\nUnlike a game of make-believe, D&D gives structure \\nto the stories, a way of determining the consequences \\nof the adventurers’ action. Players roll dice to resolve \\nwhether their attacks hit or miss or whether their adven\\xad\\nturers can scale a cliff, roll away from the strike of a \\nmagical lightning bolt, or pull off some other dangerous \\ntask. Anything is possible, but the dice make some out\\xad\\ncomes more probable than others.\\nDungeon Master (DM): OK, one at a time. Phillip, \\nyou’re looking at the gargoyles?\\nPhillip: Yeah. Is there any hint they might be \\ncreatures and not decorations?\\nDM: Make an Intelligence check.\\nPhillip: Does my Investigation skill apply?\\nDM: Sure!\\nPhillip (rolling a d20): Ugh. Seven.\\nDM: They look like decorations to you. And Amy,\\nRiva is checking out the drawbridge?\\nIn the Dungeons  & D ragons  game, each player \\ncreates an adventurer (also called a character) and \\nteams up with other adventurers (played by friends). \\nWorking together, the group might explore a dark dun\\xad\\ngeon, a ruined city, a haunted castle, a lost temple deep \\nin a jungle, or a lava-filled cavern beneath a mysterious \\nmountain. The adventurers can solve puzzles, talk with \\nother characters, battle fantastic monsters, and discover \\nfabulous magic items and other treasure.\\nOne player, however, takes on the role of the Dungeon \\nMaster (DM), the game’s lead storyteller and referee. \\nThe DM creates adventures for the characters, who nav\\xad\\nigate its hazards and decide which paths to explore. The \\nDM might describe the entrance to Castle Ravenloft, \\nand the players decide what they want their adventurers \\nto do. Will they walk across the dangerously weathered \\ndrawbridge? Tie themselves together with rope to mini\\xad\\nmize the chance that someone will fall if the drawbridge \\ngives way? Or cast a spell to carry them over the chasm?\\nThen the DM determines the results of the adventur\\xad\\ners’ actions and narrates what they experience. Because \\nthe DM can improvise to react to anything the players \\nattempt, D&D is infinitely flexible, and each adventure \\ncan be exciting and unexpected.\\nThe game has no real end; when one story or quest \\nwraps up, another one can begin, creating an ongoing \\nstory called a campaign. Many people who play the \\ngame keep their campaigns going for months or years, \\nmeeting with their friends every week or so to pick \\nup the story where they left off. The adventurers grow \\nin might as the campaign continues. Each monster \\ndefeated, each adventure completed, and each treasure')]\n"
     ]
    }
   ],
   "source": [
    "from langchain_community.document_loaders import PyPDFLoader\n",
    "\n",
    "def load_documents(path, page_limit=None):\n",
    "    loader = PyPDFLoader(path)\n",
    "    document = loader.load_and_split()\n",
    "    return document[:page_limit]\n",
    "\n",
    "document = load_documents(\"data/DnD_5e_Players_Handbook.pdf\", 160)\n",
    "print(document[:5])\n",
    "\n"
   ]
  },
  {
   "cell_type": "code",
   "execution_count": 5,
   "metadata": {},
   "outputs": [],
   "source": [
    "from langchain_text_splitters import RecursiveCharacterTextSplitter\n",
    "import os\n",
    "from dotenv import load_dotenv\n",
    "# load_dotenv()\n",
    "def split_documents(document, chunk_size=600, chunk_overlap=80):\n",
    "    try:\n",
    "        text_splitter = RecursiveCharacterTextSplitter(\n",
    "        chunk_size=chunk_size,\n",
    "        chunk_overlap=chunk_overlap,\n",
    "        length_function=len,\n",
    "        is_separator_regex=False\n",
    "    )\n",
    "        chunks = text_splitter.split_documents(document)\n",
    "        return chunks\n",
    "    except Exception as e:\n",
    "        print(f\"Error during document splitting: {e}\")\n",
    "        return None\n",
    "    \n",
    "chunks = split_documents(document)\n"
   ]
  },
  {
   "cell_type": "code",
   "execution_count": 14,
   "metadata": {},
   "outputs": [
    {
     "data": {
      "text/plain": [
       "408"
      ]
     },
     "execution_count": 14,
     "metadata": {},
     "output_type": "execute_result"
    }
   ],
   "source": [
    "import tiktoken\n",
    "encoding = tiktoken.encoding_for_model(\"gpt-4o-mini\")\n",
    "len(encoding.encode(document[0].page_content))"
   ]
  },
  {
   "cell_type": "markdown",
   "metadata": {},
   "source": [
    "## Document embedding"
   ]
  },
  {
   "cell_type": "code",
   "execution_count": 17,
   "metadata": {},
   "outputs": [],
   "source": [
    "import faiss\n",
    "from langchain_community.vectorstores import FAISS\n",
    "from langchain_community.docstore.in_memory import InMemoryDocstore\n",
    "from langchain_ollama import OllamaEmbeddings\n",
    "\n",
    "def get_embedding_function():\n",
    "    embedding_model = OllamaEmbeddings(model='nomic-embed-text')\n",
    "    return embedding_model\n",
    "\n",
    "\n",
    "\n",
    "embedding_function = get_embedding_function()\n",
    "single_vector = embedding_function.embed_query(\"this is a cat\")\n",
    "# embeddings = embedding_function.encode(chunks, batch_size=16, convert_to_tensor=False)"
   ]
  },
  {
   "cell_type": "code",
   "execution_count": 22,
   "metadata": {},
   "outputs": [
    {
     "data": {
      "text/plain": [
       "(0, 768)"
      ]
     },
     "execution_count": 22,
     "metadata": {},
     "output_type": "execute_result"
    }
   ],
   "source": [
    "index = faiss.IndexFlatL2(len(single_vector))\n",
    "index.ntotal, index.d"
   ]
  },
  {
   "cell_type": "code",
   "execution_count": 23,
   "metadata": {},
   "outputs": [
    {
     "data": {
      "text/plain": [
       "<langchain_community.vectorstores.faiss.FAISS at 0x17df08d40>"
      ]
     },
     "execution_count": 23,
     "metadata": {},
     "output_type": "execute_result"
    }
   ],
   "source": [
    "vector_store = FAISS(\n",
    "    embedding_function=embedding_function,\n",
    "    index=index,\n",
    "    docstore=InMemoryDocstore(),\n",
    "    index_to_docstore_id={} #tag chunk id later\n",
    ")\n",
    "vector_store"
   ]
  },
  {
   "cell_type": "code",
   "execution_count": null,
   "metadata": {},
   "outputs": [],
   "source": [
    "help(vector_store)"
   ]
  },
  {
   "cell_type": "code",
   "execution_count": 27,
   "metadata": {},
   "outputs": [
    {
     "data": {
      "text/plain": [
       "924"
      ]
     },
     "execution_count": 27,
     "metadata": {},
     "output_type": "execute_result"
    }
   ],
   "source": [
    "len(chunks)"
   ]
  },
  {
   "cell_type": "code",
   "execution_count": null,
   "metadata": {},
   "outputs": [],
   "source": [
    "ids = vector_store.add_documents(documents=chunks)\n",
    "ids"
   ]
  },
  {
   "cell_type": "code",
   "execution_count": 29,
   "metadata": {},
   "outputs": [
    {
     "data": {
      "text/plain": [
       "924"
      ]
     },
     "execution_count": 29,
     "metadata": {},
     "output_type": "execute_result"
    }
   ],
   "source": [
    "len(ids)"
   ]
  },
  {
   "cell_type": "code",
   "execution_count": 30,
   "metadata": {},
   "outputs": [],
   "source": [
    "db = \"dnd_rulebook_sample_db\"\n",
    "vector_store.save_local(db)"
   ]
  },
  {
   "cell_type": "markdown",
   "metadata": {},
   "source": [
    "## Retrieal and Generation"
   ]
  },
  {
   "cell_type": "code",
   "execution_count": 12,
   "metadata": {},
   "outputs": [
    {
     "name": "stdout",
     "output_type": "stream",
     "text": [
      "Exceptions to the rules are often minor. For instance, \n",
      "many adventurers don’t have proficiency with longbows, \n",
      "but every wood elf does because of a racial trait. That \n",
      "trait creates a minor exception in the game. Other \n",
      "examples of rule-breaking are more conspicuous. For \n",
      "instance, an adventurer can’t normally pass through \n",
      "walls, but some spells make that possible. Magic \n",
      "accounts for most of the major exceptions to the rules.\n",
      "R o u n d D o w n\n",
      "There’s one more general rule you need to know at the \n",
      "outset. Whenever you divide a number in the game, \n",
      "round down if you end up with a fraction, even if the \n",
      "fraction is one-half or greater.\n",
      "A d v e n t u r e s\n",
      "The Dungeons  & D ragons  game consists of a group \n",
      "of characters embarking on an adventure that the Dun­\n",
      "geon Master presents to them. Each character brings \n",
      "particular capabilities to the adventure in the form of \n",
      "ability scores and skills, class features, racial traits, \n",
      "equipment, and magic items. Every character is dif­\n",
      "ferent, with various strengths and weaknesses, so the \n",
      "best party of adventurers is one in which the characters \n",
      "complement each other and cover the weaknesses of\n",
      "Exceptions to the rules are often minor. For instance, \n",
      "many adventurers don’t have proficiency with longbows, \n",
      "but every wood elf does because of a racial trait. That \n",
      "trait creates a minor exception in the game. Other \n",
      "examples of rule-breaking are more conspicuous. For \n",
      "instance, an adventurer can’t normally pass through \n",
      "walls, but some spells make that possible. Magic \n",
      "accounts for most of the major exceptions to the rules.\n",
      "R o u n d D o w n\n",
      "There’s one more general rule you need to know at the \n",
      "outset. Whenever you divide a number in the game, \n",
      "round down if you end up with a fraction, even if the \n",
      "fraction is one-half or greater.\n",
      "A d v e n t u r e s\n",
      "The Dungeons  & D ragons  game consists of a group \n",
      "of characters embarking on an adventure that the Dun­\n",
      "geon Master presents to them. Each character brings \n",
      "particular capabilities to the adventure in the form of \n",
      "ability scores and skills, class features, racial traits, \n",
      "equipment, and magic items. Every character is dif­\n",
      "ferent, with various strengths and weaknesses, so the \n",
      "best party of adventurers is one in which the characters \n",
      "complement each other and cover the weaknesses of\n",
      "Exceptions to the rules are often minor. For instance, \n",
      "many adventurers don’t have proficiency with longbows, \n",
      "but every wood elf does because of a racial trait. That \n",
      "trait creates a minor exception in the game. Other \n",
      "examples of rule-breaking are more conspicuous. For \n",
      "instance, an adventurer can’t normally pass through \n",
      "walls, but some spells make that possible. Magic \n",
      "accounts for most of the major exceptions to the rules.\n",
      "R o u n d D o w n\n",
      "There’s one more general rule you need to know at the \n",
      "outset. Whenever you divide a number in the game, \n",
      "round down if you end up with a fraction, even if the \n",
      "fraction is one-half or greater.\n",
      "A d v e n t u r e s\n",
      "The Dungeons  & D ragons  game consists of a group \n",
      "of characters embarking on an adventure that the Dun­\n",
      "geon Master presents to them. Each character brings \n",
      "particular capabilities to the adventure in the form of \n",
      "ability scores and skills, class features, racial traits, \n",
      "equipment, and magic items. Every character is dif­\n",
      "ferent, with various strengths and weaknesses, so the \n",
      "best party of adventurers is one in which the characters \n",
      "complement each other and cover the weaknesses of\n",
      "Exceptions to the rules are often minor. For instance, \n",
      "many adventurers don’t have proficiency with longbows, \n",
      "but every wood elf does because of a racial trait. That \n",
      "trait creates a minor exception in the game. Other \n",
      "examples of rule-breaking are more conspicuous. For \n",
      "instance, an adventurer can’t normally pass through \n",
      "walls, but some spells make that possible. Magic \n",
      "accounts for most of the major exceptions to the rules.\n",
      "R o u n d D o w n\n",
      "There’s one more general rule you need to know at the \n",
      "outset. Whenever you divide a number in the game, \n",
      "round down if you end up with a fraction, even if the \n",
      "fraction is one-half or greater.\n",
      "A d v e n t u r e s\n",
      "The Dungeons  & D ragons  game consists of a group \n",
      "of characters embarking on an adventure that the Dun­\n",
      "geon Master presents to them. Each character brings \n",
      "particular capabilities to the adventure in the form of \n",
      "ability scores and skills, class features, racial traits, \n",
      "equipment, and magic items. Every character is dif­\n",
      "ferent, with various strengths and weaknesses, so the \n",
      "best party of adventurers is one in which the characters \n",
      "complement each other and cover the weaknesses of\n"
     ]
    }
   ],
   "source": [
    "query = \"What are the rules for character creation?\"\n",
    "result = db.similarity_search(query)\n",
    "for r in result:\n",
    "    print(result[0].page_content)"
   ]
  }
 ],
 "metadata": {
  "kernelspec": {
   "display_name": "dndvenv",
   "language": "python",
   "name": "python3"
  },
  "language_info": {
   "codemirror_mode": {
    "name": "ipython",
    "version": 3
   },
   "file_extension": ".py",
   "mimetype": "text/x-python",
   "name": "python",
   "nbconvert_exporter": "python",
   "pygments_lexer": "ipython3",
   "version": "3.12.5"
  }
 },
 "nbformat": 4,
 "nbformat_minor": 2
}
