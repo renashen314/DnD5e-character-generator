{
 "cells": [
  {
   "cell_type": "markdown",
   "metadata": {},
   "source": [
    "## Load and split document"
   ]
  },
  {
   "cell_type": "code",
   "execution_count": null,
   "metadata": {},
   "outputs": [
    {
     "name": "stdout",
     "output_type": "stream",
     "text": [
      "[Document(metadata={'source': 'data/DnD_5e_Players_Handbook.pdf', 'page': 1}, page_content='C o n t e n t s\\nP r e f a c e  4\\nI n t r o d u c t i o n  5\\nWorlds of Adventure ...................................................................5\\nUsing This Book.........................................................................6\\nHow to Play...................................................................................6\\nAdventures....................................................................................7\\nP a r t  1 9\\nChapter  1: S tep -by -S tep  C haracters .....11\\nBeyond 1st Level ...............................................................15\\nCh apter  2: R aces ........................................................17\\nChoosing a Race................................................................17\\nDwarf....................................................................................18\\nElf...........................................................................................21\\nHalfling.................................................................................26\\nHuman..................................................................................29\\nDragonborn........................................................................32\\nGnome..................................................................................35\\nHalf-Elf.................................................................................38\\nHalf-Orc..............................................................................40\\nTiefling.................................................................................42\\nCh apter  3: C lasses ..................................................45\\nBarbarian............................................................................46\\nBard......................................................................................51\\nCleric.....................................................................................56\\nDruid.....................................................................................64\\nFighter..................................................................................70\\nMonk.....................................................................................76\\nPaladin.................................................................................82\\nRanger..................................................................................89\\nRogue....................................................................................94\\nSorcerer..............................................................................99\\nWarlock..............................................................................105\\nWizard................................................................................112\\nChapter  4: P ersonality  and\\nBackground ..................................................................121\\nCharacter Details............................................................121\\nInspiration........................................................................125\\nBackgrounds....................................................................125\\nChapter  5: E qu ipm en t.........................................143\\nStarting Equipment.......................................................143\\nWealth................................................................................143\\nArmor and Shields.........................................................144\\nWeapons............................................................................146\\nAdventuring Gear...........................................................148\\nTools....................................................................................154\\nMounts and Vehicles.....................................................155\\nTrade Goods.....................................................................157\\nExpenses...........................................................................157\\nTrinkets.............................................................................159'), Document(metadata={'source': 'data/DnD_5e_Players_Handbook.pdf', 'page': 1}, page_content='Expenses...........................................................................157\\nTrinkets.............................................................................159\\nChapter  6: C u stom ization  O ptio n s\\n....163\\nMulticlassing....................................................................163\\nFeats...................................................................................165\\nPa r t 2  171\\nChapter  7: U sing  A bility  Sc o r e s...........173\\nAbility Scores and Modifiers........................................173\\nAdvantage and Disadvantage ......................................173\\nProficiency Bonus............................................................173\\nAbility Checks...................................................................174\\nUsing Each Ability...........................................................175\\nSaving Throws ................................................................179\\nChapter  8: A dventuring ......................181\\nTime........................................................ ...................181\\nMovement ..........................................................................181\\nThe Environment ...................................................183\\nSocial Interaction ...........................................................185\\nResting...............................................................................186\\nBetween Adventures......................................................186\\nChapter  9: C o m bat................................................189\\nThe Order of Combat.....................................................189\\nMovement and Position.................................................190\\nActions in Combat..........................................................192\\nMaking an Attack............................................................193\\nCover...................................................................................196\\nDamage and Healing.....................................................196\\nMounted Combat.............................................................198\\nUnderwater Combat.......................................................198\\nP a r t  3 199\\nC h apter 10 : S p ellca stin g .................................201\\nWhat Is a Spell?...............................................................201\\nCasting a Spell................................................................202\\nC h apter 11: Spells .....................................................207\\nSpell Lists..........................................................................207\\nSpell Descriptions...........................................................211\\nA ppen d ix  A: C o n d itio n s 290\\nA p p en d ix B:\\nG ods  of  th e  M u ltiver se  293\\nA ppen d ix  C:\\nT h e P la n es  of  E x isten ce  300\\nThe Material Plane... ....................................................300\\nBeyond the Material ..................................301\\nA p p en d ix D:\\nC r e a tu r e S t a tistic s  304\\nA ppen d ix  E:\\nIn sp ir a t io n a l R e a d in g 312\\nIn d ex 313\\nC h a r a c t e r S h ee t 317'), Document(metadata={'source': 'data/DnD_5e_Players_Handbook.pdf', 'page': 2}, page_content='Pr e fa c e\\nO NCE UPON A TIME, LONG, LONG AGO, IN A\\nrealm called the Midwestern United \\nStates—specifically the states of Minne\\xad\\nsota and Wisconsin—a group of friends \\ngathered together to forever alter the \\nhistory of gaming.\\nIt wasn’t their intent to do so. They were \\ntired of merely reading tales about worlds of magic, \\nmonsters, and adventure. They wanted to play in those \\nworlds, rather than observe them. That they went on \\nto invent Dungeons  & D ragons , and thereby ignite a \\nrevolution in gaming that continues to this day, speaks \\nto two things.\\nFirst, it speaks to their ingenuity and genius in fig\\xad\\nuring out that games were the perfect way to explore \\nworlds that could not otherwise exist. Almost every \\nmodern game, whether played on a digital device or \\na tabletop, owes some debt to D&D.\\nSecond, it is a testament to the inherent appeal of the \\ngame they created. Dungeons  & D ragons  sparked a \\nthriving global phenomenon. It is the first roleplaying \\ngame, and it remains one of the best of its breed.\\nTo play D&D, and to play it well, you don’t need to \\nread all the rules, memorize every detail of the game, \\nor master the fine art of rolling funny looking dice.\\nNone of those things have any bearing on what’s best \\nabout the game.\\nWhat you need are two things, the first being friends \\nwith whom you can share the game. Playing games with \\nyour friends is a lot of fun, but D&D does something \\nmore than entertain.\\nPlaying D&D is an exercise in collaborative creation. \\nYou and your friends create epic stories filled with ten\\xad\\nsion and memorable drama. You create silly in-jokes \\nthat make you laugh years later. The dice will be cruel \\nto you, but you will soldier on. Your collective creativ\\xad\\nity will build stories that you will tell again and again, \\nranging from the utterly absurd to the stuff of legend.\\nIf you don’t have friends interested in playing, don’t \\nworry. There’s a special alchemy that takes place \\naround a D&D table that nothing else can match. Play \\nthe game with someone enough, and the two of you\\nare likely to end up friends. It’s a cool side effect of the \\ngame. Your next gaming group is as close as the nearest \\ngame store, online forum, or gaming convention.\\nThe second thing you need is a lively imagination \\nor, more importantly, the willingness to use whatever \\nimagination you have. You don’t need to be a master \\nstoryteller or a brilliant artist. You just need to aspire to \\ncreate, to have the courage of someone who is willing to \\nbuild something and share it with others.\\nLuckily, just as D&D can strengthen your friendships, \\nit can help build in you the confidence to create and \\nshare. D&D is a game that teaches you to look for the \\nclever solution, share the sudden idea that can overcome \\na problem, and push yourself to imagine what could be, \\nrather than simply accept what is.\\nThe first characters and adventures you create will \\nprobably be a collection of cliches. That’s true of every\\xad\\none, from the greatest Dungeon Masters in history on \\ndown. Accept this reality and move on to create the \\nsecond character or adventure, which will be better, \\nand then the third, which will be better still. Repeat that \\nover the course of time, and soon you’ll be able to create \\nanything, from a character’s background story to an epic \\nworld of fantasy adventure.\\nOnce you have that skill, it’s yours forever. Countless \\nwriters, artists, and other creators can trace their begin\\xad\\nnings to a few pages of D&D notes, a handful of dice, \\nand a kitchen table.\\nAbove all else, D&D is yours. The friendships you \\nmake around the table will be unique to you. The adven\\xad\\ntures you embark on, the characters you create, the \\nmemories you make—these will be yours. D&D is your \\npersonal corner of the universe, a place where you have \\nfree reign to do as you wish.\\nGo forth now. Read the rules of the game and the \\nstory of its worlds, but always remember that you are \\nthe one who brings them to life. They are nothing'), Document(metadata={'source': 'data/DnD_5e_Players_Handbook.pdf', 'page': 2}, page_content='free reign to do as you wish.\\nGo forth now. Read the rules of the game and the \\nstory of its worlds, but always remember that you are \\nthe one who brings them to life. They are nothing \\nwithout the spark of life that you give them.\\nMike Mearls \\nMay 2014'), Document(metadata={'source': 'data/DnD_5e_Players_Handbook.pdf', 'page': 3}, page_content='In t r o d u c t io n\\nTh e D ungeons  & D ragons  roleplaying  \\ngame is about storytelling in worlds of \\nswords and sorcery. It shares elements \\nwith childhood games of make-believe. Like \\nthose games, D&D is driven by imagina\\xad\\ntion. It’s about picturing the towering castle \\nbeneath the stormy night sky and imagining \\nhow a fantasy adventurer might react to the challenges \\nthat scene presents.\\nDungeon Master (DM): After passing through the \\ncraggy peaks, the road takes a sudden turn to the east \\nand Castle Ravenloft towers before you. Crumbling \\ntowers of stone keep a silent watch over the approach. \\nThey look like abandoned guardhouses. Beyond these, \\na wide chasm gapes, disappearing into the deep \\nfog below. A lowered drawbridge spans the chasm, \\nleading to an arched entrance to the castle courtyard.\\nThe chains of the drawbridge creak in the wind, their \\nrust-eaten iron straining with the weight. From atop \\nthe high strong walls, stone gargoyles stare at you \\nfrom hollow sockets and grin hideously. A rotting \\nwooden portcullis, green with growth, hangs in the \\nentry tunnel. Beyond this, the main doors of Castle \\nRavenloft stand open, a rich warm light spilling into \\nthe courtyard.\\nPhillip (playing Gareth): I want to look at the \\ngargoyles. I have a feeling they’re not just statues.\\nAmy (playing Riva): The drawbridge looks precarious?\\nI want to see how sturdy it is. Do I think we can cross \\nit, or is it going to collapse under our weight?\\nUnlike a game of make-believe, D&D gives structure \\nto the stories, a way of determining the consequences \\nof the adventurers’ action. Players roll dice to resolve \\nwhether their attacks hit or miss or whether their adven\\xad\\nturers can scale a cliff, roll away from the strike of a \\nmagical lightning bolt, or pull off some other dangerous \\ntask. Anything is possible, but the dice make some out\\xad\\ncomes more probable than others.\\nDungeon Master (DM): OK, one at a time. Phillip, \\nyou’re looking at the gargoyles?\\nPhillip: Yeah. Is there any hint they might be \\ncreatures and not decorations?\\nDM: Make an Intelligence check.\\nPhillip: Does my Investigation skill apply?\\nDM: Sure!\\nPhillip (rolling a d20): Ugh. Seven.\\nDM: They look like decorations to you. And Amy,\\nRiva is checking out the drawbridge?\\nIn the Dungeons  & D ragons  game, each player \\ncreates an adventurer (also called a character) and \\nteams up with other adventurers (played by friends). \\nWorking together, the group might explore a dark dun\\xad\\ngeon, a ruined city, a haunted castle, a lost temple deep \\nin a jungle, or a lava-filled cavern beneath a mysterious \\nmountain. The adventurers can solve puzzles, talk with \\nother characters, battle fantastic monsters, and discover \\nfabulous magic items and other treasure.\\nOne player, however, takes on the role of the Dungeon \\nMaster (DM), the game’s lead storyteller and referee. \\nThe DM creates adventures for the characters, who nav\\xad\\nigate its hazards and decide which paths to explore. The \\nDM might describe the entrance to Castle Ravenloft, \\nand the players decide what they want their adventurers \\nto do. Will they walk across the dangerously weathered \\ndrawbridge? Tie themselves together with rope to mini\\xad\\nmize the chance that someone will fall if the drawbridge \\ngives way? Or cast a spell to carry them over the chasm?\\nThen the DM determines the results of the adventur\\xad\\ners’ actions and narrates what they experience. Because \\nthe DM can improvise to react to anything the players \\nattempt, D&D is infinitely flexible, and each adventure \\ncan be exciting and unexpected.\\nThe game has no real end; when one story or quest \\nwraps up, another one can begin, creating an ongoing \\nstory called a campaign. Many people who play the \\ngame keep their campaigns going for months or years, \\nmeeting with their friends every week or so to pick \\nup the story where they left off. The adventurers grow \\nin might as the campaign continues. Each monster \\ndefeated, each adventure completed, and each treasure')]\n"
     ]
    }
   ],
   "source": [
    "from langchain_community.document_loaders import PyPDFLoader\n",
    "\n",
    "def load_documents(path, page_limit=None):\n",
    "    loader = PyPDFLoader(path)\n",
    "    document = loader.load_and_split()\n",
    "    return document[:page_limit]\n",
    "\n",
    "document = load_documents(\"data/DnD_5e_Players_Handbook.pdf\", 160)\n",
    "print(document[:5])\n",
    "\n"
   ]
  },
  {
   "cell_type": "code",
   "execution_count": 5,
   "metadata": {},
   "outputs": [],
   "source": [
    "from langchain_text_splitters import RecursiveCharacterTextSplitter\n",
    "import os\n",
    "from dotenv import load_dotenv\n",
    "# load_dotenv()\n",
    "def split_documents(document, chunk_size=600, chunk_overlap=80):\n",
    "    try:\n",
    "        text_splitter = RecursiveCharacterTextSplitter(\n",
    "        chunk_size=chunk_size,\n",
    "        chunk_overlap=chunk_overlap,\n",
    "        length_function=len,\n",
    "        is_separator_regex=False\n",
    "    )\n",
    "        chunks = text_splitter.split_documents(document)\n",
    "        return chunks\n",
    "    except Exception as e:\n",
    "        print(f\"Error during document splitting: {e}\")\n",
    "        return None\n",
    "    \n",
    "chunks = split_documents(document)\n"
   ]
  },
  {
   "cell_type": "code",
   "execution_count": 14,
   "metadata": {},
   "outputs": [
    {
     "data": {
      "text/plain": [
       "408"
      ]
     },
     "execution_count": 14,
     "metadata": {},
     "output_type": "execute_result"
    }
   ],
   "source": [
    "import tiktoken\n",
    "encoding = tiktoken.encoding_for_model(\"gpt-4o-mini\")\n",
    "len(encoding.encode(document[0].page_content))"
   ]
  },
  {
   "cell_type": "markdown",
   "metadata": {},
   "source": [
    "## Document embedding"
   ]
  },
  {
   "cell_type": "code",
   "execution_count": 17,
   "metadata": {},
   "outputs": [],
   "source": [
    "import faiss\n",
    "from langchain_community.vectorstores import FAISS\n",
    "from langchain_community.docstore.in_memory import InMemoryDocstore\n",
    "from langchain_ollama import OllamaEmbeddings\n",
    "\n",
    "def get_embedding_function():\n",
    "    embedding_model = OllamaEmbeddings(model='nomic-embed-text')\n",
    "    return embedding_model\n",
    "\n",
    "\n",
    "\n",
    "embedding_function = get_embedding_function()\n",
    "single_vector = embedding_function.embed_query(\"this is a cat\")\n",
    "# embeddings = embedding_function.encode(chunks, batch_size=16, convert_to_tensor=False)"
   ]
  },
  {
   "cell_type": "code",
   "execution_count": 22,
   "metadata": {},
   "outputs": [
    {
     "data": {
      "text/plain": [
       "(0, 768)"
      ]
     },
     "execution_count": 22,
     "metadata": {},
     "output_type": "execute_result"
    }
   ],
   "source": [
    "index = faiss.IndexFlatL2(len(single_vector))\n",
    "index.ntotal, index.d"
   ]
  },
  {
   "cell_type": "code",
   "execution_count": 23,
   "metadata": {},
   "outputs": [
    {
     "data": {
      "text/plain": [
       "<langchain_community.vectorstores.faiss.FAISS at 0x17df08d40>"
      ]
     },
     "execution_count": 23,
     "metadata": {},
     "output_type": "execute_result"
    }
   ],
   "source": [
    "vector_store = FAISS(\n",
    "    embedding_function=embedding_function,\n",
    "    index=index,\n",
    "    docstore=InMemoryDocstore(),\n",
    "    index_to_docstore_id={} #tag chunk id later\n",
    ")\n",
    "vector_store"
   ]
  },
  {
   "cell_type": "code",
   "execution_count": null,
   "metadata": {},
   "outputs": [],
   "source": [
    "help(vector_store)"
   ]
  },
  {
   "cell_type": "code",
   "execution_count": 27,
   "metadata": {},
   "outputs": [
    {
     "data": {
      "text/plain": [
       "924"
      ]
     },
     "execution_count": 27,
     "metadata": {},
     "output_type": "execute_result"
    }
   ],
   "source": [
    "len(chunks)"
   ]
  },
  {
   "cell_type": "code",
   "execution_count": null,
   "metadata": {},
   "outputs": [],
   "source": [
    "ids = vector_store.add_documents(documents=chunks)\n",
    "ids"
   ]
  },
  {
   "cell_type": "code",
   "execution_count": 29,
   "metadata": {},
   "outputs": [
    {
     "data": {
      "text/plain": [
       "924"
      ]
     },
     "execution_count": 29,
     "metadata": {},
     "output_type": "execute_result"
    }
   ],
   "source": [
    "len(ids)"
   ]
  },
  {
   "cell_type": "code",
   "execution_count": 30,
   "metadata": {},
   "outputs": [],
   "source": [
    "db = \"dnd_rulebook_sample_db\"\n",
    "vector_store.save_local(db)\n",
    "\n",
    "# load local db\n",
    "# new_vector_store = FAISS.load_local(db, embeddings=embedding_function, allow_dangerous_deserialization=True)"
   ]
  },
  {
   "cell_type": "markdown",
   "metadata": {},
   "source": [
    "## Retrival"
   ]
  },
  {
   "cell_type": "code",
   "execution_count": 44,
   "metadata": {},
   "outputs": [
    {
     "name": "stdout",
     "output_type": "stream",
     "text": [
      "sheet to mean whatever you use to track your character, \n",
      "whether it’s a formal character sheet (like the one at the \n",
      "end of this book), some form of digital record, or a piece \n",
      "of notebook paper. An official D&D character sheet is a \n",
      "fine place to start until you know what information you \n",
      "need and how you use it during the game.\n",
      "Building  B ruenor\n",
      "Each step of character creation includes an example of \n",
      "that step, with a player named Bob building his dwarf \n",
      "character, Bruenor.\n",
      "1. C hoose  a R ace\n",
      "Every character belongs to a race, one of the many\n",
      "\n",
      "---------\n",
      "\n",
      "setting, even if the setting is a published world.\n",
      "U sin g  T his  B o o k\n",
      "The Player’s Handbook  is divided into three parts.\n",
      "Part 1 is about creating a character, providing the \n",
      "rules and guidance you need to make the character \n",
      "you’ll play in the game. It includes information on the \n",
      "various races, classes, backgrounds, equipment, and \n",
      "other customization options that you can choose from. \n",
      "Many of the rules in part 1 rely on material in parts 2 \n",
      "and 3. If you come across a game concept in part 1 that \n",
      "you don’t understand, consult the book’s index.\n",
      "\n",
      "---------\n",
      "\n",
      "C h apter  1 : Step - by -S tep  C haracters\n",
      " OUR FIRST STEP IN PLAYING AN ADVENTURER IN THE\n",
      " Dungeons  & D ragons  game is to imagine\n",
      " and create a character of your own. Your\n",
      " character is a combination of game statistics, \n",
      "roleplaying hooks, and your imagination. You \n",
      "choose a race (such as human or halfling) and\n",
      "a class (such as fighter or wizard). You also\n",
      "invent the personality, appearance, and backstory of \n",
      "your character. Once completed, your character serves \n",
      "as your representative in the game, your avatar in the \n",
      "Dungeons  & D ragons  world.\n",
      "\n",
      "---------\n",
      "\n",
      "Q uick  B uild\n",
      "Each class description in chapter 3 includes a section \n",
      "offering suggestions to quickly build a character of that \n",
      "class, including how to assign your highest ability scores, \n",
      "a background suitable to the class, and starting spells.\n",
      "PART 1 STEP-BY-STEP CHARACTERS\n",
      "\n",
      "---------\n",
      "\n"
     ]
    }
   ],
   "source": [
    "query = \"What are the rules for character creation?\"\n",
    "results = vector_store.search(query=query, search_type=\"similarity\")\n",
    "for r in results:\n",
    "    print(r.page_content)\n",
    "    print(\"\\n---------\\n\")"
   ]
  },
  {
   "cell_type": "code",
   "execution_count": 45,
   "metadata": {},
   "outputs": [],
   "source": [
    "retriever = vector_store.as_retriever(search_type=\"mmr\", search_kwargs={'k':5, 'fetch_k':100, 'lambda_mult': 1})"
   ]
  },
  {
   "cell_type": "code",
   "execution_count": 46,
   "metadata": {},
   "outputs": [],
   "source": [
    "# retriever = vector_store.as_retriever(search_type=\"similarity_score_threshold\", \n",
    "#                                       search_kwargs={'score_threshold': 0.5},\n",
    "#                                       )"
   ]
  },
  {
   "cell_type": "code",
   "execution_count": 47,
   "metadata": {},
   "outputs": [
    {
     "name": "stdout",
     "output_type": "stream",
     "text": [
      "sheet to mean whatever you use to track your character, \n",
      "whether it’s a formal character sheet (like the one at the \n",
      "end of this book), some form of digital record, or a piece \n",
      "of notebook paper. An official D&D character sheet is a \n",
      "fine place to start until you know what information you \n",
      "need and how you use it during the game.\n",
      "Building  B ruenor\n",
      "Each step of character creation includes an example of \n",
      "that step, with a player named Bob building his dwarf \n",
      "character, Bruenor.\n",
      "1. C hoose  a R ace\n",
      "Every character belongs to a race, one of the many\n",
      "\n",
      "----------\n",
      "\n",
      "setting, even if the setting is a published world.\n",
      "U sin g  T his  B o o k\n",
      "The Player’s Handbook  is divided into three parts.\n",
      "Part 1 is about creating a character, providing the \n",
      "rules and guidance you need to make the character \n",
      "you’ll play in the game. It includes information on the \n",
      "various races, classes, backgrounds, equipment, and \n",
      "other customization options that you can choose from. \n",
      "Many of the rules in part 1 rely on material in parts 2 \n",
      "and 3. If you come across a game concept in part 1 that \n",
      "you don’t understand, consult the book’s index.\n",
      "\n",
      "----------\n",
      "\n",
      "C h apter  1 : Step - by -S tep  C haracters\n",
      " OUR FIRST STEP IN PLAYING AN ADVENTURER IN THE\n",
      " Dungeons  & D ragons  game is to imagine\n",
      " and create a character of your own. Your\n",
      " character is a combination of game statistics, \n",
      "roleplaying hooks, and your imagination. You \n",
      "choose a race (such as human or halfling) and\n",
      "a class (such as fighter or wizard). You also\n",
      "invent the personality, appearance, and backstory of \n",
      "your character. Once completed, your character serves \n",
      "as your representative in the game, your avatar in the \n",
      "Dungeons  & D ragons  world.\n",
      "\n",
      "----------\n",
      "\n",
      "Q uick  B uild\n",
      "Each class description in chapter 3 includes a section \n",
      "offering suggestions to quickly build a character of that \n",
      "class, including how to assign your highest ability scores, \n",
      "a background suitable to the class, and starting spells.\n",
      "PART 1 STEP-BY-STEP CHARACTERS\n",
      "\n",
      "----------\n",
      "\n",
      "character, it’s time to flesh him or her out as a person. \n",
      "Your character needs a name. Spend a few minutes \n",
      "thinking about what he or she looks like and how he or \n",
      "she behaves in general terms.\n",
      "Using the information in chapter 4, you can flesh out \n",
      "your character’s physical appearance and personality \n",
      "traits. Choose your character’s alignment (the moral \n",
      "compass that guides his or her decisions) and ideals. \n",
      "Chapter 4 also helps you identify the things your \n",
      "character holds most dear, called bonds, and the flaws \n",
      "that could one day undermine him or her.\n",
      "\n",
      "----------\n",
      "\n"
     ]
    }
   ],
   "source": [
    "docs = retriever.invoke(query)\n",
    "for doc in docs:\n",
    "    print(doc.page_content)\n",
    "    print(\"\\n----------\\n\")"
   ]
  },
  {
   "cell_type": "markdown",
   "metadata": {},
   "source": [
    "## Generation"
   ]
  },
  {
   "cell_type": "code",
   "execution_count": 89,
   "metadata": {},
   "outputs": [],
   "source": [
    "from langchain import hub\n",
    "from langchain_ollama import OllamaLLM\n",
    "from langchain.output_parsers import StructuredOutputParser, ResponseSchema\n",
    "from langchain.prompts import ChatPromptTemplate, PromptTemplate\n",
    "from langchain_core.runnables import RunnablePassthrough\n",
    "import argparse\n"
   ]
  },
  {
   "cell_type": "code",
   "execution_count": 90,
   "metadata": {},
   "outputs": [],
   "source": [
    "RESPONSE_SCHEMA = [\n",
    "    ResponseSchema(name=\"character_name\", description=\"Name of the character\"),\n",
    "    ResponseSchema(name=\"class\", description=\"The character's class\"),\n",
    "    ResponseSchema(name=\"attributes\", description=\"The character's attributes like strength, dexterity, etc.\"),\n",
    "    ResponseSchema(name=\"equipment\", description=\"The character's starting equipment\"),\n",
    "    ResponseSchema(name=\"background\", description=\"The character's backstory\"),\n",
    "]\n",
    "parser = StructuredOutputParser.from_response_schemas(RESPONSE_SCHEMA)\n",
    "model = OllamaLLM(model=\"llama3.2:1b\")"
   ]
  },
  {
   "cell_type": "code",
   "execution_count": 91,
   "metadata": {},
   "outputs": [],
   "source": [
    "TEMPLATE = \"\"\"\n",
    "You are tasked with creating a Dungeons & Dragons 5e character sheet. \n",
    "Please provide the details in JSON format adhering to the following schema:\n",
    "\n",
    "{format_instructions}\n",
    "\n",
    "Provide:\n",
    "1. A unique character name based on the race.\n",
    "2. A class from the DnD 5e rules (e.g., Wizard, Fighter, Rogue).\n",
    "3. Attributes including strength, dexterity, constitution, intelligence, wisdom, and charisma. Use numbers from 1 to 20.\n",
    "4. Starting equipment based on the class.\n",
    "5. A short backstory for the character.\n",
    "\n",
    "Be creative and provide a detailed response.\n",
    "\"\"\"\n",
    "\n",
    "format_instructions = parser.get_format_instructions()\n",
    "prompt = PromptTemplate(input_variables=[], template=TEMPLATE, partial_variables={\"format_instructions\": format_instructions})"
   ]
  },
  {
   "cell_type": "code",
   "execution_count": 100,
   "metadata": {},
   "outputs": [],
   "source": [
    "response = model.invoke(prompt.format())"
   ]
  },
  {
   "cell_type": "code",
   "execution_count": 102,
   "metadata": {},
   "outputs": [
    {
     "data": {
      "text/plain": [
       "'```markdown\\n```\\n\\n**Character Sheet: Eilif Stonefist, Dwarf Cleric**\\n\\n```json\\n{\\n\\t\"character_name\": \"Eilif Stonefist\",\\n\\t\"class\": \" cleric\",\\n\\t\"attributes\": \"14+2 (Wisdom, 10 Constitution)\",\\n\\t\"equipment\": \"chain armor, warhammer of the gods, shield emblazoned with his family crest, holy symbol of Moradin\",\\n\\t\"background\": \"Acolyte of Moradin\"\\n}\\n```\\n\\n### Attributes:\\n\\n| Attribute | Score |\\n| --- | --- |\\n| Strength | 16 (+3) |\\n| Dexterity | 12 (+1) |\\n| Constitution | 14+2 (Wisdom, 10 Constitution) |\\n| Intelligence | 6 (-2) |\\n| Wisdom | 18 (+4) |\\n| Charisma | 8 (-1) |\\n\\n### Starting Equipment:\\n\\n* Chain armor\\n* Warhammer of the gods\\n* Shield emblazoned with his family crest\\n* Holy symbol of Moradin\\n\\n### Backstory:\\n\\nEilif was born and raised in a small dwarven clan deep beneath the earth. From a young age, he showed a natural affinity for magic and healing, which his clan\\'s priestess encouraged by training him in the ways of Moradin. As Eilif grew older, he became increasingly restless, feeling that there was more to life than serving as a loyal servant to his clan. He left to seek out new experiences and purposes, traveling the land to spread the teachings of Moradin and protect those who need his aid.\\n\\n### Personality Traits:\\n\\n* Eilif is devoutly faithful to his faith and will go to great lengths to uphold its principles.\\n* Despite his strong sense of duty, he is not above using his magical abilities to help those in need.\\n* He has a deep respect for the ancient traditions of his people and will often seek guidance from wise elders.\\n\\n### Physical Description:\\n\\nEilif stands at 4 feet tall, with a sturdy build that speaks to his dwarven heritage. His dark brown hair is cropped short, revealing a prominent widow\\'s peak, while his piercing blue eyes seem to bore into those he meets. A thick beard covers his chin, and he has a distinctive scar above his left eyebrow from a childhood accident. He wears chain armor adorned with the symbols of Moradin, which seems to glow with an inner light in the dimmest of torchlight.\\n\\n### Special Abilities:\\n\\n* **Moradin\\'s Blessing**: Once per day, Eilif can channel Moradin\\'s power to grant himself a boost to one ability score (Strength, Constitution, or Wisdom) equal to his proficiency bonus. This effect lasts for 1 hour and can be used once per short rest.\\n* **Healing Hands**: As a cleric, Eilif has access to the spell **Cure Wounds**. He can use this spell once per short rest to restore hit points equal to 1d8 + his Wisdom modifier.'"
      ]
     },
     "execution_count": 102,
     "metadata": {},
     "output_type": "execute_result"
    }
   ],
   "source": [
    "response"
   ]
  },
  {
   "cell_type": "markdown",
   "metadata": {},
   "source": [
    "## boilerplate code below"
   ]
  },
  {
   "cell_type": "code",
   "execution_count": 71,
   "metadata": {},
   "outputs": [
    {
     "data": {
      "text/plain": [
       "\"C lass  F eatu res F igh ting  S tyle\\nAs a paladin, you gain the following class features.\\nH it  Points\\nHit Dice: 1 d10 per paladin level\\nHit Points at 1st Level: 10 + your Constitution modifier \\nHit Points at Higher Levels: 1 d10 (or 6) + your \\nConstitution modifier per paladin level after 1st\\nProficiencies\\nArmor: All armor, shields\\nWeapons: Simple weapons, martial weapons\\nTools: None\\nSaving Throws: Wisdom, Charisma \\nSkills: Choose two from Athletics, Insight, Intimidation, \\nMedicine, Persuasion, and Religion\\nEquipm ent\\nYou start with the following equipment, in addition to\\n\\nQ uick  Build\\nYou can make a paladin quickly by following these \\nsuggestions. First, Strength should be your highest \\nability score, followed by Charisma. Second, choose the \\nnoble background.\\n\\nend one spell on yourself or on one willing creature \\nthat you touch.\\nYou can use this feature a number of times equal \\nto your Charisma modifier (a minimum of once). You \\nregain expended uses when you finish a long rest.\\nSacr ed  O a th s\\nBecoming a paladin involves taking vows that commit \\nthe paladin to the cause of righteousness, an active \\npath of fighting wickedness. The final oath, taken \\nwhen he or she reaches 3rd level, is the culmination \\nof all the paladin’s training. Some characters with this \\nclass don’t consider themselves true paladins until\\n\\ncosmic balance away from oblivion.\\nC reating  a  P alad in\\nThe most important aspect of a paladin character is \\nthe nature of his or her holy quest. Although the class \\nfeatures related to your oath don't appear until you \\nreach 3rd level, plan ahead for that choice by reading \\nthe oath descriptions at the end of the class. Are you a \\ndevoted servant of good, loyal to the gods of justice and \\nhonor, a holy knight in shining armor venturing forth \\nto smite evil? Are you a glorious champion of the light, \\ncherishing everything beautiful that stands against the\\n\\nas a fighter’s mastery of weapons and armor, and a \\nwizard’s spells. At low levels, your class gives you only \\ntwo or three features, but as you advance in level you \\ngain more and your existing features often improve. \\nEach class entry in this chapter includes a table \\nsummarizing the benefits you gain at every level, and \\na detailed explanation of each one.\\nAdventurers sometimes advance in more than one \\nclass. A rogue might switch direction in life and swear \\nthe oath of a paladin. A barbarian might discover latent \\nmagical ability and dabble in the sorcerer class while\""
      ]
     },
     "execution_count": 71,
     "metadata": {},
     "output_type": "execute_result"
    }
   ],
   "source": [
    "query = \"build a character of paladin class\"\n",
    "retriever = vector_store.as_retriever(search_type=\"mmr\", search_kwargs={'k':5, 'fetch_k':100, 'lambda_mult': 1})\n",
    "results = retriever.invoke(query)\n",
    "context_text = \"\\n\\n\".join([r.page_content for r in results])\n",
    "context_text"
   ]
  },
  {
   "cell_type": "code",
   "execution_count": 81,
   "metadata": {},
   "outputs": [
    {
     "data": {
      "text/plain": [
       "\"Human: \\nUse the following context to build a character:\\n\\nC lass  F eatu res F igh ting  S tyle\\nAs a paladin, you gain the following class features.\\nH it  Points\\nHit Dice: 1 d10 per paladin level\\nHit Points at 1st Level: 10 + your Constitution modifier \\nHit Points at Higher Levels: 1 d10 (or 6) + your \\nConstitution modifier per paladin level after 1st\\nProficiencies\\nArmor: All armor, shields\\nWeapons: Simple weapons, martial weapons\\nTools: None\\nSaving Throws: Wisdom, Charisma \\nSkills: Choose two from Athletics, Insight, Intimidation, \\nMedicine, Persuasion, and Religion\\nEquipm ent\\nYou start with the following equipment, in addition to\\n\\nQ uick  Build\\nYou can make a paladin quickly by following these \\nsuggestions. First, Strength should be your highest \\nability score, followed by Charisma. Second, choose the \\nnoble background.\\n\\nend one spell on yourself or on one willing creature \\nthat you touch.\\nYou can use this feature a number of times equal \\nto your Charisma modifier (a minimum of once). You \\nregain expended uses when you finish a long rest.\\nSacr ed  O a th s\\nBecoming a paladin involves taking vows that commit \\nthe paladin to the cause of righteousness, an active \\npath of fighting wickedness. The final oath, taken \\nwhen he or she reaches 3rd level, is the culmination \\nof all the paladin’s training. Some characters with this \\nclass don’t consider themselves true paladins until\\n\\ncosmic balance away from oblivion.\\nC reating  a  P alad in\\nThe most important aspect of a paladin character is \\nthe nature of his or her holy quest. Although the class \\nfeatures related to your oath don't appear until you \\nreach 3rd level, plan ahead for that choice by reading \\nthe oath descriptions at the end of the class. Are you a \\ndevoted servant of good, loyal to the gods of justice and \\nhonor, a holy knight in shining armor venturing forth \\nto smite evil? Are you a glorious champion of the light, \\ncherishing everything beautiful that stands against the\\n\\nas a fighter’s mastery of weapons and armor, and a \\nwizard’s spells. At low levels, your class gives you only \\ntwo or three features, but as you advance in level you \\ngain more and your existing features often improve. \\nEach class entry in this chapter includes a table \\nsummarizing the benefits you gain at every level, and \\na detailed explanation of each one.\\nAdventurers sometimes advance in more than one \\nclass. A rogue might switch direction in life and swear \\nthe oath of a paladin. A barbarian might discover latent \\nmagical ability and dabble in the sorcerer class while\\n\\n---\\n\\nBuild a complete character sheet based on the input: build a character of paladin class\\n\\n\""
      ]
     },
     "execution_count": 81,
     "metadata": {},
     "output_type": "execute_result"
    }
   ],
   "source": [
    "\n",
    "prompt_template = ChatPromptTemplate.from_template(PROMPT_TEMPLATE)\n",
    "prompt = prompt_template.format(context=context_text, question=query, format_instructions=format_instructions)\n",
    "prompt"
   ]
  },
  {
   "cell_type": "code",
   "execution_count": 82,
   "metadata": {},
   "outputs": [],
   "source": [
    "response_text = model.invoke(prompt)"
   ]
  },
  {
   "cell_type": "code",
   "execution_count": 87,
   "metadata": {},
   "outputs": [
    {
     "data": {
      "text/plain": [
       "\"Response: Based on the provided context, I'll create a complete character sheet for a paladin.\\n\\n**Name:** Eryndor Thorne\\n\\n**Class:** Paladin\\n\\n**Level:** 1st (using suggestions from the quick build)\\n\\n**Ability Scores:**\\n\\n* Strength: 16 (+3)\\n* Dexterity: 12 (+1)\\n* Constitution: 14 (+2)\\n* Intelligence: 10 (+0)\\n* Wisdom: 13 (+1)\\n* Charisma: 18 (+4)\\n\\n**Background:** Noble\\n\\n**Equipment:**\\n\\n* Chain mail armor\\n* Shield\\n* Holy symbol of Moradin (Dwarven god of creation and smithing)\\n* Dagger for close combat\\n* Backpack with bedroll, waterskin, rations, and other adventuring gear\\n* Quick Build equipment to facilitate character creation\\n\\n**Features & Traits:**\\n\\n* **Hit Dice:** 1 d10 per level = 1d10 (or 6) + Constitution modifier per level after 1st = +2\\n* **Armor Class:** 19 (with chain mail armor and shield)\\n* **Hit Points:** 11 (starting at 10 + Constitution modifier, with +2 for each level after 1st)\\n* **Proficiencies:**\\n\\t+ Armor: All armor\\n\\t+ Weapons: Simple weapons, martial weapons\\n\\t+ Tools: None\\n\\t+ Saving Throws: Wisdom, Charisma\\n\\t+ Skills: Athletics, Insight, Intimidation, Medicine, Persuasion, and Religion\\n* **Senses:** Darkvision 60 ft., Passive Perception 13\\n* **Spellcasting:** Eryndor is a 1st-level spellcaster. His spellcasting ability is Wisdom (spell save DC 16). He knows the following spells:\\n\\t+ At will: Bless, Cure Wounds, Shield of Faith\\n\\t+ 3/day each: Healing Word\\n\\n**Features & Traits - Oath: Devout Servant of Good**\\n\\n* **Oath:** Eryndor has sworn an oath to uphold the principles of righteousness and justice.\\n* **Cosmic Balance Away from Oblivion:** As a paladin, Eryndor is committed to maintaining cosmic balance.\\n\\nNote that this character sheet follows the standard formatting for a 1st-level paladin.\\n\""
      ]
     },
     "execution_count": 87,
     "metadata": {},
     "output_type": "execute_result"
    }
   ],
   "source": [
    "formatted_response = f\"Response: {response_text}\\n\"\n",
    "formatted_response"
   ]
  },
  {
   "cell_type": "code",
   "execution_count": 73,
   "metadata": {},
   "outputs": [],
   "source": [
    "def format_docs(docs):\n",
    "    return \"\\n\\n\".join([doc.page_content for doc in docs])"
   ]
  },
  {
   "cell_type": "code",
   "execution_count": 74,
   "metadata": {},
   "outputs": [],
   "source": [
    "rag_chain = (\n",
    "    {\"context\": retriever|format_docs, \"question\":RunnablePassthrough()}\n",
    "    | prompt_template\n",
    "    | model\n",
    "    | StructuredOutputParser\n",
    ")"
   ]
  },
  {
   "cell_type": "code",
   "execution_count": null,
   "metadata": {},
   "outputs": [],
   "source": []
  },
  {
   "cell_type": "code",
   "execution_count": null,
   "metadata": {},
   "outputs": [
    {
     "ename": "ResponseError",
     "evalue": "invalid format: expected \"json\" or a JSON schema",
     "output_type": "error",
     "traceback": [
      "\u001b[0;31m---------------------------------------------------------------------------\u001b[0m",
      "\u001b[0;31mResponseError\u001b[0m                             Traceback (most recent call last)",
      "Cell \u001b[0;32mIn[75], line 1\u001b[0m\n\u001b[0;32m----> 1\u001b[0m result \u001b[38;5;241m=\u001b[39m \u001b[43mrag_chain\u001b[49m\u001b[38;5;241;43m.\u001b[39;49m\u001b[43minvoke\u001b[49m\u001b[43m(\u001b[49m\u001b[43mquery\u001b[49m\u001b[43m)\u001b[49m\n\u001b[1;32m      2\u001b[0m \u001b[38;5;28mprint\u001b[39m(result)\n",
      "File \u001b[0;32m~/Desktop/frontend-interview/DnD5e_app/dndvenv/lib/python3.12/site-packages/langchain_core/runnables/base.py:3024\u001b[0m, in \u001b[0;36mRunnableSequence.invoke\u001b[0;34m(self, input, config, **kwargs)\u001b[0m\n\u001b[1;32m   3022\u001b[0m             \u001b[38;5;28minput\u001b[39m \u001b[38;5;241m=\u001b[39m context\u001b[38;5;241m.\u001b[39mrun(step\u001b[38;5;241m.\u001b[39minvoke, \u001b[38;5;28minput\u001b[39m, config, \u001b[38;5;241m*\u001b[39m\u001b[38;5;241m*\u001b[39mkwargs)\n\u001b[1;32m   3023\u001b[0m         \u001b[38;5;28;01melse\u001b[39;00m:\n\u001b[0;32m-> 3024\u001b[0m             \u001b[38;5;28minput\u001b[39m \u001b[38;5;241m=\u001b[39m \u001b[43mcontext\u001b[49m\u001b[38;5;241;43m.\u001b[39;49m\u001b[43mrun\u001b[49m\u001b[43m(\u001b[49m\u001b[43mstep\u001b[49m\u001b[38;5;241;43m.\u001b[39;49m\u001b[43minvoke\u001b[49m\u001b[43m,\u001b[49m\u001b[43m \u001b[49m\u001b[38;5;28;43minput\u001b[39;49m\u001b[43m,\u001b[49m\u001b[43m \u001b[49m\u001b[43mconfig\u001b[49m\u001b[43m)\u001b[49m\n\u001b[1;32m   3025\u001b[0m \u001b[38;5;66;03m# finish the root run\u001b[39;00m\n\u001b[1;32m   3026\u001b[0m \u001b[38;5;28;01mexcept\u001b[39;00m \u001b[38;5;167;01mBaseException\u001b[39;00m \u001b[38;5;28;01mas\u001b[39;00m e:\n",
      "File \u001b[0;32m~/Desktop/frontend-interview/DnD5e_app/dndvenv/lib/python3.12/site-packages/langchain_core/language_models/llms.py:390\u001b[0m, in \u001b[0;36mBaseLLM.invoke\u001b[0;34m(self, input, config, stop, **kwargs)\u001b[0m\n\u001b[1;32m    380\u001b[0m \u001b[38;5;28;01mdef\u001b[39;00m \u001b[38;5;21minvoke\u001b[39m(\n\u001b[1;32m    381\u001b[0m     \u001b[38;5;28mself\u001b[39m,\n\u001b[1;32m    382\u001b[0m     \u001b[38;5;28minput\u001b[39m: LanguageModelInput,\n\u001b[0;32m   (...)\u001b[0m\n\u001b[1;32m    386\u001b[0m     \u001b[38;5;241m*\u001b[39m\u001b[38;5;241m*\u001b[39mkwargs: Any,\n\u001b[1;32m    387\u001b[0m ) \u001b[38;5;241m-\u001b[39m\u001b[38;5;241m>\u001b[39m \u001b[38;5;28mstr\u001b[39m:\n\u001b[1;32m    388\u001b[0m     config \u001b[38;5;241m=\u001b[39m ensure_config(config)\n\u001b[1;32m    389\u001b[0m     \u001b[38;5;28;01mreturn\u001b[39;00m (\n\u001b[0;32m--> 390\u001b[0m         \u001b[38;5;28;43mself\u001b[39;49m\u001b[38;5;241;43m.\u001b[39;49m\u001b[43mgenerate_prompt\u001b[49m\u001b[43m(\u001b[49m\n\u001b[1;32m    391\u001b[0m \u001b[43m            \u001b[49m\u001b[43m[\u001b[49m\u001b[38;5;28;43mself\u001b[39;49m\u001b[38;5;241;43m.\u001b[39;49m\u001b[43m_convert_input\u001b[49m\u001b[43m(\u001b[49m\u001b[38;5;28;43minput\u001b[39;49m\u001b[43m)\u001b[49m\u001b[43m]\u001b[49m\u001b[43m,\u001b[49m\n\u001b[1;32m    392\u001b[0m \u001b[43m            \u001b[49m\u001b[43mstop\u001b[49m\u001b[38;5;241;43m=\u001b[39;49m\u001b[43mstop\u001b[49m\u001b[43m,\u001b[49m\n\u001b[1;32m    393\u001b[0m \u001b[43m            \u001b[49m\u001b[43mcallbacks\u001b[49m\u001b[38;5;241;43m=\u001b[39;49m\u001b[43mconfig\u001b[49m\u001b[38;5;241;43m.\u001b[39;49m\u001b[43mget\u001b[49m\u001b[43m(\u001b[49m\u001b[38;5;124;43m\"\u001b[39;49m\u001b[38;5;124;43mcallbacks\u001b[39;49m\u001b[38;5;124;43m\"\u001b[39;49m\u001b[43m)\u001b[49m\u001b[43m,\u001b[49m\n\u001b[1;32m    394\u001b[0m \u001b[43m            \u001b[49m\u001b[43mtags\u001b[49m\u001b[38;5;241;43m=\u001b[39;49m\u001b[43mconfig\u001b[49m\u001b[38;5;241;43m.\u001b[39;49m\u001b[43mget\u001b[49m\u001b[43m(\u001b[49m\u001b[38;5;124;43m\"\u001b[39;49m\u001b[38;5;124;43mtags\u001b[39;49m\u001b[38;5;124;43m\"\u001b[39;49m\u001b[43m)\u001b[49m\u001b[43m,\u001b[49m\n\u001b[1;32m    395\u001b[0m \u001b[43m            \u001b[49m\u001b[43mmetadata\u001b[49m\u001b[38;5;241;43m=\u001b[39;49m\u001b[43mconfig\u001b[49m\u001b[38;5;241;43m.\u001b[39;49m\u001b[43mget\u001b[49m\u001b[43m(\u001b[49m\u001b[38;5;124;43m\"\u001b[39;49m\u001b[38;5;124;43mmetadata\u001b[39;49m\u001b[38;5;124;43m\"\u001b[39;49m\u001b[43m)\u001b[49m\u001b[43m,\u001b[49m\n\u001b[1;32m    396\u001b[0m \u001b[43m            \u001b[49m\u001b[43mrun_name\u001b[49m\u001b[38;5;241;43m=\u001b[39;49m\u001b[43mconfig\u001b[49m\u001b[38;5;241;43m.\u001b[39;49m\u001b[43mget\u001b[49m\u001b[43m(\u001b[49m\u001b[38;5;124;43m\"\u001b[39;49m\u001b[38;5;124;43mrun_name\u001b[39;49m\u001b[38;5;124;43m\"\u001b[39;49m\u001b[43m)\u001b[49m\u001b[43m,\u001b[49m\n\u001b[1;32m    397\u001b[0m \u001b[43m            \u001b[49m\u001b[43mrun_id\u001b[49m\u001b[38;5;241;43m=\u001b[39;49m\u001b[43mconfig\u001b[49m\u001b[38;5;241;43m.\u001b[39;49m\u001b[43mpop\u001b[49m\u001b[43m(\u001b[49m\u001b[38;5;124;43m\"\u001b[39;49m\u001b[38;5;124;43mrun_id\u001b[39;49m\u001b[38;5;124;43m\"\u001b[39;49m\u001b[43m,\u001b[49m\u001b[43m \u001b[49m\u001b[38;5;28;43;01mNone\u001b[39;49;00m\u001b[43m)\u001b[49m\u001b[43m,\u001b[49m\n\u001b[1;32m    398\u001b[0m \u001b[43m            \u001b[49m\u001b[38;5;241;43m*\u001b[39;49m\u001b[38;5;241;43m*\u001b[39;49m\u001b[43mkwargs\u001b[49m\u001b[43m,\u001b[49m\n\u001b[1;32m    399\u001b[0m \u001b[43m        \u001b[49m\u001b[43m)\u001b[49m\n\u001b[1;32m    400\u001b[0m         \u001b[38;5;241m.\u001b[39mgenerations[\u001b[38;5;241m0\u001b[39m][\u001b[38;5;241m0\u001b[39m]\n\u001b[1;32m    401\u001b[0m         \u001b[38;5;241m.\u001b[39mtext\n\u001b[1;32m    402\u001b[0m     )\n",
      "File \u001b[0;32m~/Desktop/frontend-interview/DnD5e_app/dndvenv/lib/python3.12/site-packages/langchain_core/language_models/llms.py:755\u001b[0m, in \u001b[0;36mBaseLLM.generate_prompt\u001b[0;34m(self, prompts, stop, callbacks, **kwargs)\u001b[0m\n\u001b[1;32m    747\u001b[0m \u001b[38;5;28;01mdef\u001b[39;00m \u001b[38;5;21mgenerate_prompt\u001b[39m(\n\u001b[1;32m    748\u001b[0m     \u001b[38;5;28mself\u001b[39m,\n\u001b[1;32m    749\u001b[0m     prompts: \u001b[38;5;28mlist\u001b[39m[PromptValue],\n\u001b[0;32m   (...)\u001b[0m\n\u001b[1;32m    752\u001b[0m     \u001b[38;5;241m*\u001b[39m\u001b[38;5;241m*\u001b[39mkwargs: Any,\n\u001b[1;32m    753\u001b[0m ) \u001b[38;5;241m-\u001b[39m\u001b[38;5;241m>\u001b[39m LLMResult:\n\u001b[1;32m    754\u001b[0m     prompt_strings \u001b[38;5;241m=\u001b[39m [p\u001b[38;5;241m.\u001b[39mto_string() \u001b[38;5;28;01mfor\u001b[39;00m p \u001b[38;5;129;01min\u001b[39;00m prompts]\n\u001b[0;32m--> 755\u001b[0m     \u001b[38;5;28;01mreturn\u001b[39;00m \u001b[38;5;28;43mself\u001b[39;49m\u001b[38;5;241;43m.\u001b[39;49m\u001b[43mgenerate\u001b[49m\u001b[43m(\u001b[49m\u001b[43mprompt_strings\u001b[49m\u001b[43m,\u001b[49m\u001b[43m \u001b[49m\u001b[43mstop\u001b[49m\u001b[38;5;241;43m=\u001b[39;49m\u001b[43mstop\u001b[49m\u001b[43m,\u001b[49m\u001b[43m \u001b[49m\u001b[43mcallbacks\u001b[49m\u001b[38;5;241;43m=\u001b[39;49m\u001b[43mcallbacks\u001b[49m\u001b[43m,\u001b[49m\u001b[43m \u001b[49m\u001b[38;5;241;43m*\u001b[39;49m\u001b[38;5;241;43m*\u001b[39;49m\u001b[43mkwargs\u001b[49m\u001b[43m)\u001b[49m\n",
      "File \u001b[0;32m~/Desktop/frontend-interview/DnD5e_app/dndvenv/lib/python3.12/site-packages/langchain_core/language_models/llms.py:950\u001b[0m, in \u001b[0;36mBaseLLM.generate\u001b[0;34m(self, prompts, stop, callbacks, tags, metadata, run_name, run_id, **kwargs)\u001b[0m\n\u001b[1;32m    935\u001b[0m \u001b[38;5;28;01mif\u001b[39;00m (\u001b[38;5;28mself\u001b[39m\u001b[38;5;241m.\u001b[39mcache \u001b[38;5;129;01mis\u001b[39;00m \u001b[38;5;28;01mNone\u001b[39;00m \u001b[38;5;129;01mand\u001b[39;00m get_llm_cache() \u001b[38;5;129;01mis\u001b[39;00m \u001b[38;5;28;01mNone\u001b[39;00m) \u001b[38;5;129;01mor\u001b[39;00m \u001b[38;5;28mself\u001b[39m\u001b[38;5;241m.\u001b[39mcache \u001b[38;5;129;01mis\u001b[39;00m \u001b[38;5;28;01mFalse\u001b[39;00m:\n\u001b[1;32m    936\u001b[0m     run_managers \u001b[38;5;241m=\u001b[39m [\n\u001b[1;32m    937\u001b[0m         callback_manager\u001b[38;5;241m.\u001b[39mon_llm_start(\n\u001b[1;32m    938\u001b[0m             \u001b[38;5;28mself\u001b[39m\u001b[38;5;241m.\u001b[39m_serialized,\n\u001b[0;32m   (...)\u001b[0m\n\u001b[1;32m    948\u001b[0m         )\n\u001b[1;32m    949\u001b[0m     ]\n\u001b[0;32m--> 950\u001b[0m     output \u001b[38;5;241m=\u001b[39m \u001b[38;5;28;43mself\u001b[39;49m\u001b[38;5;241;43m.\u001b[39;49m\u001b[43m_generate_helper\u001b[49m\u001b[43m(\u001b[49m\n\u001b[1;32m    951\u001b[0m \u001b[43m        \u001b[49m\u001b[43mprompts\u001b[49m\u001b[43m,\u001b[49m\u001b[43m \u001b[49m\u001b[43mstop\u001b[49m\u001b[43m,\u001b[49m\u001b[43m \u001b[49m\u001b[43mrun_managers\u001b[49m\u001b[43m,\u001b[49m\u001b[43m \u001b[49m\u001b[38;5;28;43mbool\u001b[39;49m\u001b[43m(\u001b[49m\u001b[43mnew_arg_supported\u001b[49m\u001b[43m)\u001b[49m\u001b[43m,\u001b[49m\u001b[43m \u001b[49m\u001b[38;5;241;43m*\u001b[39;49m\u001b[38;5;241;43m*\u001b[39;49m\u001b[43mkwargs\u001b[49m\n\u001b[1;32m    952\u001b[0m \u001b[43m    \u001b[49m\u001b[43m)\u001b[49m\n\u001b[1;32m    953\u001b[0m     \u001b[38;5;28;01mreturn\u001b[39;00m output\n\u001b[1;32m    954\u001b[0m \u001b[38;5;28;01mif\u001b[39;00m \u001b[38;5;28mlen\u001b[39m(missing_prompts) \u001b[38;5;241m>\u001b[39m \u001b[38;5;241m0\u001b[39m:\n",
      "File \u001b[0;32m~/Desktop/frontend-interview/DnD5e_app/dndvenv/lib/python3.12/site-packages/langchain_core/language_models/llms.py:792\u001b[0m, in \u001b[0;36mBaseLLM._generate_helper\u001b[0;34m(self, prompts, stop, run_managers, new_arg_supported, **kwargs)\u001b[0m\n\u001b[1;32m    790\u001b[0m     \u001b[38;5;28;01mfor\u001b[39;00m run_manager \u001b[38;5;129;01min\u001b[39;00m run_managers:\n\u001b[1;32m    791\u001b[0m         run_manager\u001b[38;5;241m.\u001b[39mon_llm_error(e, response\u001b[38;5;241m=\u001b[39mLLMResult(generations\u001b[38;5;241m=\u001b[39m[]))\n\u001b[0;32m--> 792\u001b[0m     \u001b[38;5;28;01mraise\u001b[39;00m e\n\u001b[1;32m    793\u001b[0m flattened_outputs \u001b[38;5;241m=\u001b[39m output\u001b[38;5;241m.\u001b[39mflatten()\n\u001b[1;32m    794\u001b[0m \u001b[38;5;28;01mfor\u001b[39;00m manager, flattened_output \u001b[38;5;129;01min\u001b[39;00m \u001b[38;5;28mzip\u001b[39m(run_managers, flattened_outputs):\n",
      "File \u001b[0;32m~/Desktop/frontend-interview/DnD5e_app/dndvenv/lib/python3.12/site-packages/langchain_core/language_models/llms.py:779\u001b[0m, in \u001b[0;36mBaseLLM._generate_helper\u001b[0;34m(self, prompts, stop, run_managers, new_arg_supported, **kwargs)\u001b[0m\n\u001b[1;32m    769\u001b[0m \u001b[38;5;28;01mdef\u001b[39;00m \u001b[38;5;21m_generate_helper\u001b[39m(\n\u001b[1;32m    770\u001b[0m     \u001b[38;5;28mself\u001b[39m,\n\u001b[1;32m    771\u001b[0m     prompts: \u001b[38;5;28mlist\u001b[39m[\u001b[38;5;28mstr\u001b[39m],\n\u001b[0;32m   (...)\u001b[0m\n\u001b[1;32m    775\u001b[0m     \u001b[38;5;241m*\u001b[39m\u001b[38;5;241m*\u001b[39mkwargs: Any,\n\u001b[1;32m    776\u001b[0m ) \u001b[38;5;241m-\u001b[39m\u001b[38;5;241m>\u001b[39m LLMResult:\n\u001b[1;32m    777\u001b[0m     \u001b[38;5;28;01mtry\u001b[39;00m:\n\u001b[1;32m    778\u001b[0m         output \u001b[38;5;241m=\u001b[39m (\n\u001b[0;32m--> 779\u001b[0m             \u001b[38;5;28;43mself\u001b[39;49m\u001b[38;5;241;43m.\u001b[39;49m\u001b[43m_generate\u001b[49m\u001b[43m(\u001b[49m\n\u001b[1;32m    780\u001b[0m \u001b[43m                \u001b[49m\u001b[43mprompts\u001b[49m\u001b[43m,\u001b[49m\n\u001b[1;32m    781\u001b[0m \u001b[43m                \u001b[49m\u001b[43mstop\u001b[49m\u001b[38;5;241;43m=\u001b[39;49m\u001b[43mstop\u001b[49m\u001b[43m,\u001b[49m\n\u001b[1;32m    782\u001b[0m \u001b[43m                \u001b[49m\u001b[38;5;66;43;03m# TODO: support multiple run managers\u001b[39;49;00m\n\u001b[1;32m    783\u001b[0m \u001b[43m                \u001b[49m\u001b[43mrun_manager\u001b[49m\u001b[38;5;241;43m=\u001b[39;49m\u001b[43mrun_managers\u001b[49m\u001b[43m[\u001b[49m\u001b[38;5;241;43m0\u001b[39;49m\u001b[43m]\u001b[49m\u001b[43m \u001b[49m\u001b[38;5;28;43;01mif\u001b[39;49;00m\u001b[43m \u001b[49m\u001b[43mrun_managers\u001b[49m\u001b[43m \u001b[49m\u001b[38;5;28;43;01melse\u001b[39;49;00m\u001b[43m \u001b[49m\u001b[38;5;28;43;01mNone\u001b[39;49;00m\u001b[43m,\u001b[49m\n\u001b[1;32m    784\u001b[0m \u001b[43m                \u001b[49m\u001b[38;5;241;43m*\u001b[39;49m\u001b[38;5;241;43m*\u001b[39;49m\u001b[43mkwargs\u001b[49m\u001b[43m,\u001b[49m\n\u001b[1;32m    785\u001b[0m \u001b[43m            \u001b[49m\u001b[43m)\u001b[49m\n\u001b[1;32m    786\u001b[0m             \u001b[38;5;28;01mif\u001b[39;00m new_arg_supported\n\u001b[1;32m    787\u001b[0m             \u001b[38;5;28;01melse\u001b[39;00m \u001b[38;5;28mself\u001b[39m\u001b[38;5;241m.\u001b[39m_generate(prompts, stop\u001b[38;5;241m=\u001b[39mstop)\n\u001b[1;32m    788\u001b[0m         )\n\u001b[1;32m    789\u001b[0m     \u001b[38;5;28;01mexcept\u001b[39;00m \u001b[38;5;167;01mBaseException\u001b[39;00m \u001b[38;5;28;01mas\u001b[39;00m e:\n\u001b[1;32m    790\u001b[0m         \u001b[38;5;28;01mfor\u001b[39;00m run_manager \u001b[38;5;129;01min\u001b[39;00m run_managers:\n",
      "File \u001b[0;32m~/Desktop/frontend-interview/DnD5e_app/dndvenv/lib/python3.12/site-packages/langchain_ollama/llms.py:288\u001b[0m, in \u001b[0;36mOllamaLLM._generate\u001b[0;34m(self, prompts, stop, run_manager, **kwargs)\u001b[0m\n\u001b[1;32m    286\u001b[0m generations \u001b[38;5;241m=\u001b[39m []\n\u001b[1;32m    287\u001b[0m \u001b[38;5;28;01mfor\u001b[39;00m prompt \u001b[38;5;129;01min\u001b[39;00m prompts:\n\u001b[0;32m--> 288\u001b[0m     final_chunk \u001b[38;5;241m=\u001b[39m \u001b[38;5;28;43mself\u001b[39;49m\u001b[38;5;241;43m.\u001b[39;49m\u001b[43m_stream_with_aggregation\u001b[49m\u001b[43m(\u001b[49m\n\u001b[1;32m    289\u001b[0m \u001b[43m        \u001b[49m\u001b[43mprompt\u001b[49m\u001b[43m,\u001b[49m\n\u001b[1;32m    290\u001b[0m \u001b[43m        \u001b[49m\u001b[43mstop\u001b[49m\u001b[38;5;241;43m=\u001b[39;49m\u001b[43mstop\u001b[49m\u001b[43m,\u001b[49m\n\u001b[1;32m    291\u001b[0m \u001b[43m        \u001b[49m\u001b[43mrun_manager\u001b[49m\u001b[38;5;241;43m=\u001b[39;49m\u001b[43mrun_manager\u001b[49m\u001b[43m,\u001b[49m\n\u001b[1;32m    292\u001b[0m \u001b[43m        \u001b[49m\u001b[43mverbose\u001b[49m\u001b[38;5;241;43m=\u001b[39;49m\u001b[38;5;28;43mself\u001b[39;49m\u001b[38;5;241;43m.\u001b[39;49m\u001b[43mverbose\u001b[49m\u001b[43m,\u001b[49m\n\u001b[1;32m    293\u001b[0m \u001b[43m        \u001b[49m\u001b[38;5;241;43m*\u001b[39;49m\u001b[38;5;241;43m*\u001b[39;49m\u001b[43mkwargs\u001b[49m\u001b[43m,\u001b[49m\n\u001b[1;32m    294\u001b[0m \u001b[43m    \u001b[49m\u001b[43m)\u001b[49m\n\u001b[1;32m    295\u001b[0m     generations\u001b[38;5;241m.\u001b[39mappend([final_chunk])\n\u001b[1;32m    296\u001b[0m \u001b[38;5;28;01mreturn\u001b[39;00m LLMResult(generations\u001b[38;5;241m=\u001b[39mgenerations)\n",
      "File \u001b[0;32m~/Desktop/frontend-interview/DnD5e_app/dndvenv/lib/python3.12/site-packages/langchain_ollama/llms.py:256\u001b[0m, in \u001b[0;36mOllamaLLM._stream_with_aggregation\u001b[0;34m(self, prompt, stop, run_manager, verbose, **kwargs)\u001b[0m\n\u001b[1;32m    247\u001b[0m \u001b[38;5;28;01mdef\u001b[39;00m \u001b[38;5;21m_stream_with_aggregation\u001b[39m(\n\u001b[1;32m    248\u001b[0m     \u001b[38;5;28mself\u001b[39m,\n\u001b[1;32m    249\u001b[0m     prompt: \u001b[38;5;28mstr\u001b[39m,\n\u001b[0;32m   (...)\u001b[0m\n\u001b[1;32m    253\u001b[0m     \u001b[38;5;241m*\u001b[39m\u001b[38;5;241m*\u001b[39mkwargs: Any,\n\u001b[1;32m    254\u001b[0m ) \u001b[38;5;241m-\u001b[39m\u001b[38;5;241m>\u001b[39m GenerationChunk:\n\u001b[1;32m    255\u001b[0m     final_chunk \u001b[38;5;241m=\u001b[39m \u001b[38;5;28;01mNone\u001b[39;00m\n\u001b[0;32m--> 256\u001b[0m \u001b[43m    \u001b[49m\u001b[38;5;28;43;01mfor\u001b[39;49;00m\u001b[43m \u001b[49m\u001b[43mstream_resp\u001b[49m\u001b[43m \u001b[49m\u001b[38;5;129;43;01min\u001b[39;49;00m\u001b[43m \u001b[49m\u001b[38;5;28;43mself\u001b[39;49m\u001b[38;5;241;43m.\u001b[39;49m\u001b[43m_create_generate_stream\u001b[49m\u001b[43m(\u001b[49m\u001b[43mprompt\u001b[49m\u001b[43m,\u001b[49m\u001b[43m \u001b[49m\u001b[43mstop\u001b[49m\u001b[43m,\u001b[49m\u001b[43m \u001b[49m\u001b[38;5;241;43m*\u001b[39;49m\u001b[38;5;241;43m*\u001b[39;49m\u001b[43mkwargs\u001b[49m\u001b[43m)\u001b[49m\u001b[43m:\u001b[49m\n\u001b[1;32m    257\u001b[0m \u001b[43m        \u001b[49m\u001b[38;5;28;43;01mif\u001b[39;49;00m\u001b[43m \u001b[49m\u001b[38;5;129;43;01mnot\u001b[39;49;00m\u001b[43m \u001b[49m\u001b[38;5;28;43misinstance\u001b[39;49m\u001b[43m(\u001b[49m\u001b[43mstream_resp\u001b[49m\u001b[43m,\u001b[49m\u001b[43m \u001b[49m\u001b[38;5;28;43mstr\u001b[39;49m\u001b[43m)\u001b[49m\u001b[43m:\u001b[49m\n\u001b[1;32m    258\u001b[0m \u001b[43m            \u001b[49m\u001b[43mchunk\u001b[49m\u001b[43m \u001b[49m\u001b[38;5;241;43m=\u001b[39;49m\u001b[43m \u001b[49m\u001b[43mGenerationChunk\u001b[49m\u001b[43m(\u001b[49m\n\u001b[1;32m    259\u001b[0m \u001b[43m                \u001b[49m\u001b[43mtext\u001b[49m\u001b[38;5;241;43m=\u001b[39;49m\u001b[43mstream_resp\u001b[49m\u001b[43m[\u001b[49m\u001b[38;5;124;43m\"\u001b[39;49m\u001b[38;5;124;43mresponse\u001b[39;49m\u001b[38;5;124;43m\"\u001b[39;49m\u001b[43m]\u001b[49m\u001b[43m \u001b[49m\u001b[38;5;28;43;01mif\u001b[39;49;00m\u001b[43m \u001b[49m\u001b[38;5;124;43m\"\u001b[39;49m\u001b[38;5;124;43mresponse\u001b[39;49m\u001b[38;5;124;43m\"\u001b[39;49m\u001b[43m \u001b[49m\u001b[38;5;129;43;01min\u001b[39;49;00m\u001b[43m \u001b[49m\u001b[43mstream_resp\u001b[49m\u001b[43m \u001b[49m\u001b[38;5;28;43;01melse\u001b[39;49;00m\u001b[43m \u001b[49m\u001b[38;5;124;43m\"\u001b[39;49m\u001b[38;5;124;43m\"\u001b[39;49m\u001b[43m,\u001b[49m\n\u001b[1;32m    260\u001b[0m \u001b[43m                \u001b[49m\u001b[43mgeneration_info\u001b[49m\u001b[38;5;241;43m=\u001b[39;49m\u001b[43m(\u001b[49m\n\u001b[1;32m    261\u001b[0m \u001b[43m                    \u001b[49m\u001b[38;5;28;43mdict\u001b[39;49m\u001b[43m(\u001b[49m\u001b[43mstream_resp\u001b[49m\u001b[43m)\u001b[49m\u001b[43m \u001b[49m\u001b[38;5;28;43;01mif\u001b[39;49;00m\u001b[43m \u001b[49m\u001b[43mstream_resp\u001b[49m\u001b[38;5;241;43m.\u001b[39;49m\u001b[43mget\u001b[49m\u001b[43m(\u001b[49m\u001b[38;5;124;43m\"\u001b[39;49m\u001b[38;5;124;43mdone\u001b[39;49m\u001b[38;5;124;43m\"\u001b[39;49m\u001b[43m)\u001b[49m\u001b[43m \u001b[49m\u001b[38;5;129;43;01mis\u001b[39;49;00m\u001b[43m \u001b[49m\u001b[38;5;28;43;01mTrue\u001b[39;49;00m\u001b[43m \u001b[49m\u001b[38;5;28;43;01melse\u001b[39;49;00m\u001b[43m \u001b[49m\u001b[38;5;28;43;01mNone\u001b[39;49;00m\n\u001b[1;32m    262\u001b[0m \u001b[43m                \u001b[49m\u001b[43m)\u001b[49m\u001b[43m,\u001b[49m\n\u001b[1;32m    263\u001b[0m \u001b[43m            \u001b[49m\u001b[43m)\u001b[49m\n",
      "File \u001b[0;32m~/Desktop/frontend-interview/DnD5e_app/dndvenv/lib/python3.12/site-packages/langchain_ollama/llms.py:211\u001b[0m, in \u001b[0;36mOllamaLLM._create_generate_stream\u001b[0;34m(self, prompt, stop, **kwargs)\u001b[0m\n\u001b[1;32m    205\u001b[0m \u001b[38;5;28;01mdef\u001b[39;00m \u001b[38;5;21m_create_generate_stream\u001b[39m(\n\u001b[1;32m    206\u001b[0m     \u001b[38;5;28mself\u001b[39m,\n\u001b[1;32m    207\u001b[0m     prompt: \u001b[38;5;28mstr\u001b[39m,\n\u001b[1;32m    208\u001b[0m     stop: Optional[List[\u001b[38;5;28mstr\u001b[39m]] \u001b[38;5;241m=\u001b[39m \u001b[38;5;28;01mNone\u001b[39;00m,\n\u001b[1;32m    209\u001b[0m     \u001b[38;5;241m*\u001b[39m\u001b[38;5;241m*\u001b[39mkwargs: Any,\n\u001b[1;32m    210\u001b[0m ) \u001b[38;5;241m-\u001b[39m\u001b[38;5;241m>\u001b[39m Iterator[Union[Mapping[\u001b[38;5;28mstr\u001b[39m, Any], \u001b[38;5;28mstr\u001b[39m]]:\n\u001b[0;32m--> 211\u001b[0m     \u001b[38;5;28;01myield from\u001b[39;00m \u001b[38;5;28mself\u001b[39m\u001b[38;5;241m.\u001b[39m_client\u001b[38;5;241m.\u001b[39mgenerate(\n\u001b[1;32m    212\u001b[0m         \u001b[38;5;241m*\u001b[39m\u001b[38;5;241m*\u001b[39m\u001b[38;5;28mself\u001b[39m\u001b[38;5;241m.\u001b[39m_generate_params(prompt, stop\u001b[38;5;241m=\u001b[39mstop, \u001b[38;5;241m*\u001b[39m\u001b[38;5;241m*\u001b[39mkwargs)\n\u001b[1;32m    213\u001b[0m     )\n",
      "File \u001b[0;32m~/Desktop/frontend-interview/DnD5e_app/dndvenv/lib/python3.12/site-packages/ollama/_client.py:172\u001b[0m, in \u001b[0;36mClient._request.<locals>.inner\u001b[0;34m()\u001b[0m\n\u001b[1;32m    170\u001b[0m part \u001b[38;5;241m=\u001b[39m json\u001b[38;5;241m.\u001b[39mloads(line)\n\u001b[1;32m    171\u001b[0m \u001b[38;5;28;01mif\u001b[39;00m err \u001b[38;5;241m:=\u001b[39m part\u001b[38;5;241m.\u001b[39mget(\u001b[38;5;124m'\u001b[39m\u001b[38;5;124merror\u001b[39m\u001b[38;5;124m'\u001b[39m):\n\u001b[0;32m--> 172\u001b[0m   \u001b[38;5;28;01mraise\u001b[39;00m ResponseError(err)\n\u001b[1;32m    173\u001b[0m \u001b[38;5;28;01myield\u001b[39;00m \u001b[38;5;28mcls\u001b[39m(\u001b[38;5;241m*\u001b[39m\u001b[38;5;241m*\u001b[39mpart)\n",
      "\u001b[0;31mResponseError\u001b[0m: invalid format: expected \"json\" or a JSON schema"
     ]
    }
   ],
   "source": [
    "# result = rag_chain.invoke(query)\n",
    "# print(result)"
   ]
  }
 ],
 "metadata": {
  "kernelspec": {
   "display_name": "dndvenv",
   "language": "python",
   "name": "python3"
  },
  "language_info": {
   "codemirror_mode": {
    "name": "ipython",
    "version": 3
   },
   "file_extension": ".py",
   "mimetype": "text/x-python",
   "name": "python",
   "nbconvert_exporter": "python",
   "pygments_lexer": "ipython3",
   "version": "3.12.5"
  }
 },
 "nbformat": 4,
 "nbformat_minor": 2
}
